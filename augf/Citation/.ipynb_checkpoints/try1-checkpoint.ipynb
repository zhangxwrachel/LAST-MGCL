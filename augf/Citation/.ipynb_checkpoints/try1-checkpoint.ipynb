{
 "cells": [
  {
   "cell_type": "code",
   "execution_count": 8,
   "metadata": {},
   "outputs": [
    {
     "name": "stderr",
     "output_type": "stream",
     "text": [
      "Run Train:   0%|          | 0/1 [00:00<?, ?it/s]"
     ]
    },
    {
     "name": "stdout",
     "output_type": "stream",
     "text": [
      "augmented_features: torch.Size([2708, 1433])\n",
      "augmented_features: torch.Size([2708, 1433])\n",
      "augmented_features: torch.Size([2708, 1433])\n",
      "augmented_features: torch.Size([2708, 1433])\n",
      "augmented_features: torch.Size([2708, 1433])\n",
      "augmented_features: torch.Size([2708, 1433])\n",
      "augmented_features: torch.Size([2708, 1433])\n",
      "augmented_features: torch.Size([2708, 1433])\n",
      "augmented_features: torch.Size([2708, 1433])\n",
      "augmented_features: torch.Size([2708, 1433])\n",
      "augmented_features: torch.Size([2708, 1433])\n",
      "augmented_features: torch.Size([2708, 1433])\n",
      "augmented_features: torch.Size([2708, 1433])\n",
      "augmented_features: torch.Size([2708, 1433])\n",
      "augmented_features: torch.Size([2708, 1433])\n",
      "augmented_features: torch.Size([2708, 1433])\n",
      "augmented_features: torch.Size([2708, 1433])\n",
      "augmented_features: torch.Size([2708, 1433])\n",
      "augmented_features: torch.Size([2708, 1433])\n",
      "augmented_features: torch.Size([2708, 1433])\n",
      "Epoch: 0001 loss_train: 2.0438 loss_val: 1.9770\n"
     ]
    },
    {
     "name": "stderr",
     "output_type": "stream",
     "text": [
      "Run Train: 100%|██████████| 1/1 [00:01<00:00,  1.16s/it]"
     ]
    },
    {
     "name": "stdout",
     "output_type": "stream",
     "text": [
      "0.114 0.0 0.103 0.0\n"
     ]
    },
    {
     "name": "stderr",
     "output_type": "stream",
     "text": [
      "\n"
     ]
    }
   ],
   "source": [
    "from __future__ import division\n",
    "from __future__ import print_function\n",
    "import argparse\n",
    "import numpy as np\n",
    "import scipy.sparse as sp\n",
    "import torch\n",
    "import sys\n",
    "import copy\n",
    "import random\n",
    "import torch.nn.functional as F\n",
    "import torch.optim as optim\n",
    "import cvae_pretrain\n",
    "\n",
    "from utils import load_data, accuracy, normalize_adj, normalize_features, sparse_mx_to_torch_sparse_tensor\n",
    "from gcn.models import LAGCN\n",
    "from tqdm import trange\n",
    "\n",
    "exc_path = sys.path[0]\n",
    "\n",
    "parser = argparse.ArgumentParser()\n",
    "parser.add_argument(\"--samples\", type=int, default=4)\n",
    "parser.add_argument(\"--concat\", type=int, default=4)\n",
    "parser.add_argument('--runs', type=int, default=100, help='The number of experiments.')\n",
    "\n",
    "parser.add_argument('--dataset', default='cora', help='Dataset string.')\n",
    "parser.add_argument('--seed', type=int, default=42, help='Random seed.')\n",
    "parser.add_argument('--epochs', type=int, default=200, help='Number of epochs to train.')\n",
    "parser.add_argument('--lr', type=float, default=0.01, help='Initial learning rate.')\n",
    "parser.add_argument('--weight_decay', type=float, default=5e-4, help='Weight decay (L2 loss on parameters).')\n",
    "parser.add_argument('--hidden', type=int, default=8, help='Number of hidden units.')\n",
    "parser.add_argument('--dropout', type=float, default=0.5, help='Dropout rate (1 - keep probability).')\n",
    "\n",
    "parser.add_argument('--tem', type=float, default=0.5, help='Sharpening temperature')\n",
    "parser.add_argument('--lam', type=float, default=1., help='Lamda')\n",
    "\n",
    "args = parser.parse_known_args()[0]\n",
    "\n",
    "torch.manual_seed(args.seed)\n",
    "if torch.cuda.is_available():\n",
    "    torch.cuda.manual_seed(args.seed)\n",
    "np.random.seed(args.seed)\n",
    "random.seed(args.seed)\n",
    "\n",
    "device = torch.device('cuda' if torch.cuda.is_available() else 'cpu')\n",
    "args.cuda = torch.cuda.is_available()\n",
    "\n",
    "# Adapted from GRAND: https://github.com/THUDM/GRAND\n",
    "def consis_loss(logps, temp=args.tem):\n",
    "    ps = [torch.exp(p) for p in logps]\n",
    "    sum_p = 0.\n",
    "    for p in ps:\n",
    "        sum_p = sum_p + p\n",
    "    avg_p = sum_p/len(ps)\n",
    "    #p2 = torch.exp(logp2)\n",
    "    \n",
    "    sharp_p = (torch.pow(avg_p, 1./temp) / torch.sum(torch.pow(avg_p, 1./temp), dim=1, keepdim=True)).detach()\n",
    "    loss = 0.\n",
    "    for p in ps:\n",
    "        loss += torch.mean((p-sharp_p).pow(2).sum(1))\n",
    "    loss = loss/len(ps)\n",
    "    return args.lam * loss\n",
    "\n",
    "\n",
    "# Load data\n",
    "adj, features, idx_train, idx_val, idx_test, labels = load_data(args.dataset)\n",
    "\n",
    "# Normalize adj and features\n",
    "features = features.toarray()\n",
    "adj_normalized = normalize_adj(adj + sp.eye(adj.shape[0])) \n",
    "features_normalized = normalize_features(features)\n",
    "\n",
    "# To PyTorch Tensor\n",
    "labels = torch.LongTensor(labels)\n",
    "labels = torch.max(labels, dim=1)[1]\n",
    "features_normalized = torch.FloatTensor(features_normalized)\n",
    "adj_normalized = sparse_mx_to_torch_sparse_tensor(adj_normalized)\n",
    "idx_train = torch.LongTensor(idx_train)\n",
    "idx_val = torch.LongTensor(idx_val)\n",
    "idx_test = torch.LongTensor(idx_test)\n",
    "\n",
    "# cvae_model = torch.load(\"{}/model/{}.pkl\".format(exc_path, args.dataset))\n",
    "cvae_model = torch.load(\"{}/model/{}.pkl\".format(exc_path, args.dataset), map_location=torch.device('cpu'))\n",
    "\n",
    "def get_augmented_features(concat):\n",
    "    X_list = []\n",
    "    cvae_features = torch.tensor(features, dtype=torch.float32).to(device)\n",
    "    for _ in range(concat):\n",
    "        z = torch.randn([cvae_features.size(0), cvae_model.latent_size]).to(device)\n",
    "        augmented_features = cvae_model.inference(z, cvae_features)\n",
    "        print('augmented_features:',augmented_features.shape)\n",
    "        augmented_features = cvae_pretrain.feature_tensor_normalize(augmented_features).detach()\n",
    "        if args.cuda:\n",
    "            X_list.append(augmented_features.to(device))\n",
    "        else:\n",
    "            X_list.append(augmented_features)\n",
    "    return X_list\n",
    "\n",
    "\n",
    "if args.cuda:\n",
    "    adj_normalized = adj_normalized.to(device)\n",
    "    labels = labels.to(device)\n",
    "    idx_train = idx_train.to(device)\n",
    "    idx_val = idx_val.to(device)\n",
    "    idx_test = idx_test.to(device)\n",
    "    features_normalized = features_normalized.to(device)\n",
    "\n",
    "all_val = []\n",
    "all_test = []\n",
    "\n",
    "for i in trange(1, desc='Run Train'):\n",
    "\n",
    "    # Model and optimizer\n",
    "    model = LAGCN(concat=args.concat+1,\n",
    "                  nfeat=features.shape[1],\n",
    "                  nhid=args.hidden,\n",
    "                  nclass=labels.max().item() + 1,\n",
    "                  dropout=args.dropout)\n",
    "    optimizer = optim.Adam(model.parameters(), lr=args.lr, weight_decay=args.weight_decay)\n",
    "\n",
    "    if args.cuda:\n",
    "        model.to(device)\n",
    "\n",
    "    # Train model\n",
    "    best = 999999999\n",
    "    best_model = None\n",
    "    best_X_list = None\n",
    "    for epoch in range(1):\n",
    "\n",
    "        model.train()\n",
    "        optimizer.zero_grad()\n",
    "\n",
    "        output_list = []\n",
    "        for k in range(args.samples):\n",
    "            X_list = get_augmented_features(args.concat)\n",
    "            output_list.append(torch.log_softmax(model(X_list+[features_normalized], adj_normalized), dim=-1))\n",
    "\n",
    "        loss_train = 0.\n",
    "        for k in range(len(output_list)):\n",
    "            loss_train += F.nll_loss(output_list[k][idx_train], labels[idx_train])\n",
    "        \n",
    "        loss_train = loss_train/len(output_list)\n",
    "\n",
    "        loss_consis = consis_loss(output_list)\n",
    "        loss_train = loss_train + loss_consis\n",
    "\n",
    "        loss_train.backward()\n",
    "        optimizer.step()\n",
    "\n",
    "        model.eval()\n",
    "        val_X_list = get_augmented_features(args.concat)\n",
    "        output = model(val_X_list+[features_normalized], adj_normalized)\n",
    "        output = torch.log_softmax(output, dim=1)\n",
    "        loss_val = F.nll_loss(output[idx_val], labels[idx_val])\n",
    "        \n",
    "\n",
    "        print('Epoch: {:04d}'.format(epoch+1),\n",
    "              'loss_train: {:.4f}'.format(loss_train.item()),\n",
    "              'loss_val: {:.4f}'.format(loss_val.item()))\n",
    "                \n",
    "        if loss_val < best:\n",
    "            best = loss_val\n",
    "            best_model = copy.deepcopy(model)\n",
    "            best_X_list = copy.deepcopy(val_X_list)\n",
    "\n",
    "    #Validate and Test\n",
    "    best_model.eval()\n",
    "    output = best_model(best_X_list+[features_normalized], adj_normalized)\n",
    "    output = torch.log_softmax(output, dim=1)\n",
    "    acc_val = accuracy(output[idx_val], labels[idx_val])\n",
    "    acc_test = accuracy(output[idx_test], labels[idx_test])\n",
    "\n",
    "    all_val.append(acc_val.item())\n",
    "    all_test.append(acc_test.item())\n",
    "\n",
    "print(np.mean(all_val), np.std(all_val), np.mean(all_test), np.std(all_test))\n"
   ]
  },
  {
   "cell_type": "code",
   "execution_count": 12,
   "metadata": {},
   "outputs": [
    {
     "data": {
      "text/plain": [
       "torch.Size([2708, 1433])"
      ]
     },
     "execution_count": 12,
     "metadata": {},
     "output_type": "execute_result"
    }
   ],
   "source": [
    "X_list[0].shape"
   ]
  },
  {
   "cell_type": "code",
   "execution_count": 11,
   "metadata": {},
   "outputs": [
    {
     "data": {
      "text/plain": [
       "4"
      ]
     },
     "execution_count": 11,
     "metadata": {},
     "output_type": "execute_result"
    }
   ],
   "source": [
    "len(X_list)"
   ]
  },
  {
   "cell_type": "code",
   "execution_count": 15,
   "metadata": {},
   "outputs": [
    {
     "data": {
      "text/plain": [
       "4"
      ]
     },
     "execution_count": 15,
     "metadata": {},
     "output_type": "execute_result"
    }
   ],
   "source": [
    "len(output_list)"
   ]
  },
  {
   "cell_type": "code",
   "execution_count": 14,
   "metadata": {},
   "outputs": [
    {
     "ename": "AttributeError",
     "evalue": "'list' object has no attribute 'shape'",
     "output_type": "error",
     "traceback": [
      "\u001b[1;31m---------------------------------------------------------------------------\u001b[0m",
      "\u001b[1;31mAttributeError\u001b[0m                            Traceback (most recent call last)",
      "\u001b[1;32md:\\Desktop\\毕业论文\\代码\\LAGNN-main\\LAGNN-main\\Citation\\try1.ipynb 单元格 4\u001b[0m line \u001b[0;36m1\n\u001b[1;32m----> <a href='vscode-notebook-cell:/d%3A/Desktop/%E6%AF%95%E4%B8%9A%E8%AE%BA%E6%96%87/%E4%BB%A3%E7%A0%81/LAGNN-main/LAGNN-main/Citation/try1.ipynb#W2sZmlsZQ%3D%3D?line=0'>1</a>\u001b[0m output_list\u001b[39m.\u001b[39;49mshape\n",
      "\u001b[1;31mAttributeError\u001b[0m: 'list' object has no attribute 'shape'"
     ]
    }
   ],
   "source": [
    "output_list.shape"
   ]
  },
  {
   "cell_type": "code",
   "execution_count": 6,
   "metadata": {},
   "outputs": [
    {
     "ename": "NameError",
     "evalue": "name 'augmented_features' is not defined",
     "output_type": "error",
     "traceback": [
      "\u001b[1;31m---------------------------------------------------------------------------\u001b[0m",
      "\u001b[1;31mNameError\u001b[0m                                 Traceback (most recent call last)",
      "\u001b[1;32md:\\Desktop\\毕业论文\\代码\\LAGNN-main\\LAGNN-main\\Citation\\try1.ipynb 单元格 4\u001b[0m line \u001b[0;36m1\n\u001b[1;32m----> <a href='vscode-notebook-cell:/d%3A/Desktop/%E6%AF%95%E4%B8%9A%E8%AE%BA%E6%96%87/%E4%BB%A3%E7%A0%81/LAGNN-main/LAGNN-main/Citation/try1.ipynb#W3sZmlsZQ%3D%3D?line=0'>1</a>\u001b[0m augmented_features\n",
      "\u001b[1;31mNameError\u001b[0m: name 'augmented_features' is not defined"
     ]
    }
   ],
   "source": [
    "augmented_features"
   ]
  },
  {
   "cell_type": "code",
   "execution_count": null,
   "metadata": {},
   "outputs": [],
   "source": []
  }
 ],
 "metadata": {
  "kernelspec": {
   "display_name": "Python 3",
   "language": "python",
   "name": "python3"
  },
  "language_info": {
   "codemirror_mode": {
    "name": "ipython",
    "version": 3
   },
   "file_extension": ".py",
   "mimetype": "text/x-python",
   "name": "python",
   "nbconvert_exporter": "python",
   "pygments_lexer": "ipython3",
   "version": "3.11.8"
  }
 },
 "nbformat": 4,
 "nbformat_minor": 2
}
